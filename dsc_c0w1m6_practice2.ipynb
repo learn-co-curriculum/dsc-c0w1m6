{
  "nbformat": 4,
  "nbformat_minor": 0,
  "metadata": {
    "colab": {
      "provenance": []
    },
    "kernelspec": {
      "name": "python3",
      "display_name": "Python 3"
    },
    "language_info": {
      "name": "python"
    }
  },
  "cells": [
    {
      "cell_type": "markdown",
      "source": [
        "# Practice for Data Visualization with Pandas"
      ],
      "metadata": {
        "id": "LI0IyeoxuNXZ"
      }
    },
    {
      "cell_type": "markdown",
      "source": [
        "For all of the plots below, make sure to display them using `plt.show()`.\n",
        "\n"
      ],
      "metadata": {
        "id": "MKORk-EhvEU4"
      }
    },
    {
      "cell_type": "markdown",
      "source": [
        "1. Import the necessary libraries:\n",
        "- pandas as pd\n",
        "- matplotlib.pyplot as plt\n",
        "- seaborn as sns"
      ],
      "metadata": {
        "id": "9j0GMc_UuTPp"
      }
    },
    {
      "cell_type": "code",
      "execution_count": null,
      "metadata": {
        "id": "TF1LBRmZt6yA"
      },
      "outputs": [],
      "source": [
        "# Your code here"
      ]
    },
    {
      "cell_type": "markdown",
      "source": [
        "2. Load the Iris dataset into a pandas DataFrame:\n",
        "- Use the `sns.load_dataset('iris')` function to load the dataset."
      ],
      "metadata": {
        "id": "NGBiX_gAuYlo"
      }
    },
    {
      "cell_type": "code",
      "source": [
        "# Your code here"
      ],
      "metadata": {
        "id": "14cGL09Nub0G"
      },
      "execution_count": null,
      "outputs": []
    },
    {
      "cell_type": "markdown",
      "source": [
        "Create a bar chart:\n",
        "- Use the `value_counts()` function to count the number of samples for each species.\n",
        "- Create a bar chart using the `plot(kind='bar')` function.\n",
        "- Set the title of the plot using `set_title('Number of Samples per Species')`.- Label the x-axis as 'Species' and the y-axis as 'Count'.\n",
        "- Rotate the x-tick labels by 45 degrees using `plt.xticks(rotation=45)`."
      ],
      "metadata": {
        "id": "UP_wUoEOuiVA"
      }
    },
    {
      "cell_type": "code",
      "source": [
        "# Your code here"
      ],
      "metadata": {
        "id": "vqfDY9ssunal"
      },
      "execution_count": null,
      "outputs": []
    },
    {
      "cell_type": "markdown",
      "source": [
        "4. Create a scatter plot:\n",
        "- Create a scatter plot using the `plot(kind='scatter', x='sepal_length', y='sepal_width')` function.\n",
        "- Set the title of the plot using `set_title('Sepal Length vs. Sepal Width')`.\n",
        "- Label the x-axis as 'Sepal Length' and the y-axis as 'Sepal Width'.\n",
        "- Use `set_aspect('equal')` to set the aspect ratio of the plot to be equal."
      ],
      "metadata": {
        "id": "44pEiUMwuobY"
      }
    },
    {
      "cell_type": "code",
      "source": [
        "# Your code here"
      ],
      "metadata": {
        "id": "Bz4Jx3oGuvMg"
      },
      "execution_count": null,
      "outputs": []
    },
    {
      "cell_type": "markdown",
      "source": [
        "5. Create a box plot:\n",
        "- Create a box plot using the `boxplot(column=['sepal_length', 'sepal_width', 'petal_length', 'petal_width'], by='species')` function.\n",
        "- Set the title of the plot using `set_title('Box Plot of Iris Measurements')`.\n",
        "- Label the y-axis as 'Measurement (cm)'.\n",
        "- Rotate the x-tick labels by 45 degrees using `plt.xticks(rotation=45)`."
      ],
      "metadata": {
        "id": "RP_XWu2euvUq"
      }
    },
    {
      "cell_type": "code",
      "source": [
        "# Your code here"
      ],
      "metadata": {
        "id": "FHYJEvE1uzcY"
      },
      "execution_count": null,
      "outputs": []
    },
    {
      "cell_type": "markdown",
      "source": [
        "6. Create histograms:\n",
        "- Create a histogram for each feature (sepal_length, sepal_width, petal_length, petal_width) using the `hist()` function.\n",
        "- Set the number of bins to 20 using the `bins` parameter.\n",
        "- Set the title of each plot using `set_title()` with an appropriate title for each feature.\n",
        "- Label the x-axis with the feature name and the y-axis as 'Frequency'.\n",
        "- Adjust the layout of the subplots using `plt.tight_layout()`."
      ],
      "metadata": {
        "id": "DKMwAFmku1ng"
      }
    },
    {
      "cell_type": "code",
      "source": [
        "# Your code here"
      ],
      "metadata": {
        "id": "FDEcb1GnvRLq"
      },
      "execution_count": null,
      "outputs": []
    }
  ]
}